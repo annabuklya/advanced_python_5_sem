{
 "cells": [
  {
   "cell_type": "code",
   "execution_count": null,
   "id": "7d1302b6",
   "metadata": {},
   "outputs": [],
   "source": []
  },
  {
   "cell_type": "code",
   "execution_count": 3,
   "id": "bd8a66e0",
   "metadata": {},
   "outputs": [
    {
     "name": "stdout",
     "output_type": "stream",
     "text": [
      "Anna\n"
     ]
    }
   ],
   "source": [
    "\n",
    "def decorator(author):\n",
    "    \n",
    "    \n",
    "    def wrapper(func):\n",
    "        \n",
    "        func.author = author\n",
    "        return func\n",
    "    \n",
    "    return wrapper\n",
    "\n",
    "\n",
    "@decorator(\"Anna\") \n",
    "\n",
    "def add2(num: int) -> int:\n",
    "    \n",
    "    return num + 2\n",
    "\n",
    "print(add2.author)"
   ]
  },
  {
   "cell_type": "code",
   "execution_count": null,
   "id": "3c803563",
   "metadata": {},
   "outputs": [],
   "source": []
  }
 ],
 "metadata": {
  "kernelspec": {
   "display_name": "Python 3 (ipykernel)",
   "language": "python",
   "name": "python3"
  },
  "language_info": {
   "codemirror_mode": {
    "name": "ipython",
    "version": 3
   },
   "file_extension": ".py",
   "mimetype": "text/x-python",
   "name": "python",
   "nbconvert_exporter": "python",
   "pygments_lexer": "ipython3",
   "version": "3.8.10"
  }
 },
 "nbformat": 4,
 "nbformat_minor": 5
}
