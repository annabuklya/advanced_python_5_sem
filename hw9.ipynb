{
 "cells": [
  {
   "cell_type": "code",
   "execution_count": null,
   "id": "71c5cd59",
   "metadata": {},
   "outputs": [],
   "source": [
    "## Задача "
   ]
  },
  {
   "cell_type": "code",
   "execution_count": 3,
   "id": "6b56970e",
   "metadata": {},
   "outputs": [
    {
     "name": "stdout",
     "output_type": "stream",
     "text": [
      "Connection established\n",
      "Finished\n"
     ]
    }
   ],
   "source": [
    "import os\n",
    "import random\n",
    "from shutil import rmtree\n",
    "\n",
    "\n",
    "def establish_connection(auth=True):\n",
    "    id = f\"{random.randint(0,100000000):010}\"\n",
    "    \n",
    "    if auth:\n",
    "        yield f\"auth {id}\"\n",
    "    yield from user_connection(id)\n",
    "    \n",
    "    if auth:\n",
    "        yield f\"disconnect {id}\"\n",
    "\n",
    "\n",
    "def connection():\n",
    "    \n",
    "    connections = [establish_connection(True) for i in range(10)]\n",
    "    connections.append(establish_connection(False))\n",
    "    connections.append(establish_connection(False))\n",
    "    \n",
    "    \n",
    "    while len(connections):\n",
    "        conn = random.choice(connections)\n",
    "        \n",
    "        try:\n",
    "            yield next(conn)\n",
    "        \n",
    "        except StopIteration:\n",
    "            del connections[connections.index(conn)]\n",
    "\n",
    "\n",
    "def user_connection(username):\n",
    "    \n",
    "    for i in range(random.randint(10, 20)):\n",
    "        yield f\"{username} message{i}\"\n",
    "\n",
    "\n",
    "\n",
    "\n",
    "def connect_user(id):\n",
    "    \n",
    "    with open(f'user_connection/{id}.txt', 'a') as af:\n",
    "        yield from write_to_file(af)\n",
    "\n",
    "\n",
    "def write_to_file(f):\n",
    "    \n",
    "    while True:\n",
    "        \n",
    "        message = yield\n",
    "        if message == 'disconnect':\n",
    "            yield\n",
    "        f.write(message + '\\n')\n",
    "\n",
    "\n",
    "def task_planner():\n",
    "    \n",
    "    print('Connection established')\n",
    "    users = {}\n",
    "    \n",
    "    for s in connection():\n",
    "        s = s.split()\n",
    "        if s[0] == 'auth':\n",
    "            connect_s = connect_user(s[1])\n",
    "            connect_s.send(None)\n",
    "            users[s[1]] = connect_s\n",
    "        \n",
    "        elif s[0] in users.keys():\n",
    "            users[s[0]].send(s[1])\n",
    "        \n",
    "        elif s[0] == 'disconnect':\n",
    "            users[s[1]].send(s[0])\n",
    "    print('Finished')\n",
    "\n",
    "\n",
    "if 'user_connection' in os.listdir():\n",
    "    rmtree('user_connection')\n",
    "    os.mkdir('user_connection')\n",
    "\n",
    "else:\n",
    "    os.mkdir('user_connection')\n",
    "\n",
    "task_planner()"
   ]
  },
  {
   "cell_type": "code",
   "execution_count": null,
   "id": "cc8aac6c",
   "metadata": {},
   "outputs": [],
   "source": []
  }
 ],
 "metadata": {
  "kernelspec": {
   "display_name": "Python 3 (ipykernel)",
   "language": "python",
   "name": "python3"
  },
  "language_info": {
   "codemirror_mode": {
    "name": "ipython",
    "version": 3
   },
   "file_extension": ".py",
   "mimetype": "text/x-python",
   "name": "python",
   "nbconvert_exporter": "python",
   "pygments_lexer": "ipython3",
   "version": "3.8.10"
  }
 },
 "nbformat": 4,
 "nbformat_minor": 5
}
