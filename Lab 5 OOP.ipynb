{
 "cells": [
  {
   "cell_type": "markdown",
   "id": "cb844c4e",
   "metadata": {},
   "source": [
    "# Lab 5 OOP"
   ]
  },
  {
   "cell_type": "code",
   "execution_count": 36,
   "id": "bfeef979",
   "metadata": {},
   "outputs": [
    {
     "name": "stdout",
     "output_type": "stream",
     "text": [
      "allowed\n"
     ]
    }
   ],
   "source": [
    "class Film:  \n",
    "     \n",
    "  \n",
    "    def __init__(self, name, director, year, country, duration, age_rating):  \n",
    "        self.name = name  \n",
    "        self.director = director\n",
    "        self.year = year \n",
    "        self.country = country \n",
    "        self.duration = duration \n",
    "        self.age_rating = age_rating\n",
    "        \n",
    "    def is_allowed(self, man):\n",
    "        \n",
    "        if (2021 - man.year)  >= self.age_rating:\n",
    "            return 'allowed'\n",
    "        else:\n",
    "            return 'not allowed'\n",
    "        \n",
    "class Cartoon(Film):\n",
    "    \n",
    "    def __init__(self, name, director, year, country, duration, age_rating, technique):\n",
    "        super().__init__(self, name, director, year, country, duration, age_rating)\n",
    "        \n",
    "        self.technique = technique\n",
    "    \n",
    "    \n",
    "\n",
    "class Anime(Cartoon):\n",
    "   \n",
    "\n",
    "    def __init__(self, name, director, year, duration, age_rating, technique):\n",
    "        super().__init__(self, name, director, year, duration, age_rating)\n",
    "        \n",
    "        self.country = 'Japan'\n",
    "\n",
    "class Human:  \n",
    "     \n",
    "        \n",
    "    def __init__(self, name, sex, year):  \n",
    "        self.name = name  \n",
    "        self.sex = sex\n",
    "        self.year = year \n",
    "            \n",
    "movie = Film(name=\"Dune\", director=\"Denis Villeneuve\", year=2021,\n",
    "  country=\"USA\", duration=155, age_rating=13)            \n",
    "\n",
    "man = Human(name=\"Neo\", sex=\"M\", year=1964)\n",
    "print(movie.is_allowed(man)) \n",
    "\n",
    "        "
   ]
  },
  {
   "cell_type": "code",
   "execution_count": null,
   "id": "5af17635",
   "metadata": {},
   "outputs": [],
   "source": []
  }
 ],
 "metadata": {
  "kernelspec": {
   "display_name": "Python 3 (ipykernel)",
   "language": "python",
   "name": "python3"
  },
  "language_info": {
   "codemirror_mode": {
    "name": "ipython",
    "version": 3
   },
   "file_extension": ".py",
   "mimetype": "text/x-python",
   "name": "python",
   "nbconvert_exporter": "python",
   "pygments_lexer": "ipython3",
   "version": "3.8.10"
  }
 },
 "nbformat": 4,
 "nbformat_minor": 5
}
