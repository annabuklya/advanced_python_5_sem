{
 "cells": [
  {
   "cell_type": "markdown",
   "id": "d93e4912",
   "metadata": {},
   "source": [
    "# Задание 1"
   ]
  },
  {
   "cell_type": "markdown",
   "id": "019fbf41",
   "metadata": {},
   "source": [
    "Через стандартный ввод (с клавиатуры) на вход программе подаются целые числа от 0 до 32, каждое из которых представляет номер буквы в русском алфавите. Также есть число -1, которое обозначает пробел. Надо декодировать сообщение, то есть перевести последовательность из чисел в строку из слов.\n",
    "\n",
    "Числа подаются на вход построчно. Окончание последовательности — слово End."
   ]
  },
  {
   "cell_type": "code",
   "execution_count": 4,
   "id": "11ad156c",
   "metadata": {},
   "outputs": [
    {
     "name": "stdout",
     "output_type": "stream",
     "text": [
      "32\n",
      "-1\n",
      "0\n",
      "14\n",
      "32\n",
      "End\n",
      "я аня\n"
     ]
    }
   ],
   "source": [
    "alphabet = list('абвгдеёжзийклмнопрстуфхцчшщъыьэюя ')\n",
    "#print(alphabet[3])\n",
    "s = ''\n",
    "n = input()\n",
    "while n != 'End':\n",
    "    n = int(n)\n",
    "    s = s + str(alphabet[n])\n",
    "    n = input()\n",
    "    \n",
    "print(s)"
   ]
  },
  {
   "cell_type": "code",
   "execution_count": null,
   "id": "f4debd2f",
   "metadata": {},
   "outputs": [],
   "source": []
  }
 ],
 "metadata": {
  "kernelspec": {
   "display_name": "Python 3 (ipykernel)",
   "language": "python",
   "name": "python3"
  },
  "language_info": {
   "codemirror_mode": {
    "name": "ipython",
    "version": 3
   },
   "file_extension": ".py",
   "mimetype": "text/x-python",
   "name": "python",
   "nbconvert_exporter": "python",
   "pygments_lexer": "ipython3",
   "version": "3.8.10"
  }
 },
 "nbformat": 4,
 "nbformat_minor": 5
}
